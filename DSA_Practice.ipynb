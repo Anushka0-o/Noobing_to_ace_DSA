{
 "cells": [
  {
   "cell_type": "markdown",
   "metadata": {},
   "source": [
    "# Linear Search"
   ]
  },
  {
   "cell_type": "code",
   "execution_count": 13,
   "metadata": {},
   "outputs": [
    {
     "name": "stdout",
     "output_type": "stream",
     "text": [
      "Value not found in the array\n"
     ]
    }
   ],
   "source": [
    "# Linear Search for an Ordered Array\n",
    "\n",
    "def linear_search(A, B):\n",
    "    for i in range(len(A)):\n",
    "        if A[i] == B:\n",
    "            return i\n",
    "        elif A[i] > B:\n",
    "            break\n",
    "\n",
    "    print(\"Value not found in the array\")\n",
    "            \n",
    "linear_search((1, 2, 3, 4, 5), 0)\n",
    "        "
   ]
  },
  {
   "cell_type": "markdown",
   "metadata": {},
   "source": [
    "# Binary Search"
   ]
  },
  {
   "cell_type": "code",
   "execution_count": 21,
   "metadata": {},
   "outputs": [
    {
     "data": {
      "text/plain": [
       "0"
      ]
     },
     "execution_count": 21,
     "metadata": {},
     "output_type": "execute_result"
    }
   ],
   "source": [
    "# Binary Search for an Ordered Array\n",
    "\n",
    "def binary_search(arr, elem):\n",
    "    a = len(arr)\n",
    "    lower_bound = 0\n",
    "    upper_bound = len(arr) - 1\n",
    "    \n",
    "    while lower_bound <= upper_bound:\n",
    "        \n",
    "        mid_pt = (lower_bound + upper_bound)//2\n",
    "        value_at_mid_pt = arr[mid_pt]\n",
    "        \n",
    "        if elem == value_at_mid_pt:\n",
    "            return mid_pt\n",
    "        \n",
    "        elif elem < value_at_mid_pt:\n",
    "            upper_bound = mid_pt - 1\n",
    "            \n",
    "        elif elem > value_at_mid_pt:\n",
    "            lower_bound = mid_pt + 1\n",
    "            \n",
    "    print(\"Value not found\")\n",
    "\n",
    "binary_search((2,13,34,45,56,67,78,89), 2)\n",
    "        \n",
    "        "
   ]
  },
  {
   "cell_type": "markdown",
   "metadata": {},
   "source": [
    "Bubble Sort\n",
    "The Bubble Sort algorithm contains two significant kinds of steps:\n",
    "\n",
    "• Comparisons: two numbers are compared with one another to determine\n",
    "which is greater.\n",
    "• Swaps: two numbers are swapped with one another in order to sort them.\n"
   ]
  },
  {
   "cell_type": "markdown",
   "metadata": {},
   "source": [
    "# Bubble Sorting"
   ]
  },
  {
   "cell_type": "code",
   "execution_count": 23,
   "metadata": {},
   "outputs": [
    {
     "name": "stdout",
     "output_type": "stream",
     "text": [
      "[2, 2, 3, 8, 35, 67, 87, 101]\n"
     ]
    }
   ],
   "source": [
    "def bubble_sort(list):\n",
    "    unsorted_until_index = len(list) - 1\n",
    "    sorted = False\n",
    "    \n",
    "    while not sorted:\n",
    "        sorted = True\n",
    "        for i in range(unsorted_until_index):\n",
    "            if list[i] > list[i+1]:\n",
    "                list[i], list[i+1] = list[i+1], list[i]\n",
    "                sorted = False\n",
    "        unsorted_until_index -= 1\n",
    "    return list\n",
    "\n",
    "print(bubble_sort([2,3,67,87,8,101,35,2]))\n",
    "            "
   ]
  },
  {
   "cell_type": "code",
   "execution_count": 31,
   "metadata": {},
   "outputs": [
    {
     "data": {
      "text/plain": [
       "98"
      ]
     },
     "execution_count": 31,
     "metadata": {},
     "output_type": "execute_result"
    }
   ],
   "source": [
    "def greatestNumber(array):\n",
    "    for i in array:\n",
    "# Assume for now that i is the greatest:\n",
    "        isIValTheGreatest = True\n",
    "        for j in array:\n",
    "# If we find another value that is greater than i,\n",
    "# i is not the greatest:\n",
    "            if j > i:\n",
    "                isIValTheGreatest = False\n",
    "# If, by the time we checked all the other numbers, i\n",
    "# is still the greatest, it means that i is the greatest number:\n",
    "        if isIValTheGreatest:\n",
    "            return i\n",
    "greatestNumber([1,3,4,78,98,6,34,41])"
   ]
  },
  {
   "cell_type": "code",
   "execution_count": 36,
   "metadata": {},
   "outputs": [
    {
     "data": {
      "text/plain": [
       "89"
      ]
     },
     "execution_count": 36,
     "metadata": {},
     "output_type": "execute_result"
    }
   ],
   "source": [
    "# more efficient way for finding the greatest number \n",
    "def greatestNumber(array):\n",
    "    a = array[0]\n",
    "    for i in range(len(array)):\n",
    "        if array[i] > a:\n",
    "            a = array[i]\n",
    "    return a\n",
    "\n",
    "greatestNumber([1,2,4,5,76,89])\n",
    "            \n",
    "            "
   ]
  },
  {
   "cell_type": "markdown",
   "metadata": {},
   "source": [
    "# Selection Sorting"
   ]
  },
  {
   "cell_type": "code",
   "execution_count": 40,
   "metadata": {},
   "outputs": [
    {
     "data": {
      "text/plain": [
       "[1, 4, 7, 9, 13, 23]"
      ]
     },
     "execution_count": 40,
     "metadata": {},
     "output_type": "execute_result"
    }
   ],
   "source": [
    "def selection_sort(array):\n",
    "    for i in range(len(array)):\n",
    "        lowest_number_index = i\n",
    "        for j in range(i+1, len(array)):\n",
    "            if array[j] < array[lowest_number_index]:\n",
    "                lowest_number_index = j\n",
    "        if lowest_number_index != i:\n",
    "            temp = array[i]\n",
    "            array[i] = array[lowest_number_index]\n",
    "            array[lowest_number_index] = temp\n",
    "    return array\n",
    "\n",
    "selection_sort([1,4,9,13,7,23])\n",
    "            \n",
    "            "
   ]
  },
  {
   "cell_type": "markdown",
   "metadata": {},
   "source": [
    "# Insertion Sorting"
   ]
  },
  {
   "cell_type": "code",
   "execution_count": 46,
   "metadata": {},
   "outputs": [
    {
     "data": {
      "text/plain": [
       "[1, 2, 21, 34, 56, 87]"
      ]
     },
     "execution_count": 46,
     "metadata": {},
     "output_type": "execute_result"
    }
   ],
   "source": [
    "def insertion_sort(array):\n",
    "    for i in range(1, len(array)):\n",
    "        temp_value = array[i]\n",
    "        position = i - 1\n",
    "        \n",
    "        while position >= 0:\n",
    "            if array[position] > temp_value:\n",
    "                array[position + 1] = array[position]\n",
    "                position = position - 1\n",
    "                \n",
    "            else: break\n",
    "                \n",
    "            array[position + 1] = temp_value\n",
    "    return array\n",
    "insertion_sort([2,34,56,21,87,1])\n",
    "                \n",
    "            \n",
    "        "
   ]
  },
  {
   "cell_type": "markdown",
   "metadata": {},
   "source": [
    "# Hash Tables for better efficiency"
   ]
  },
  {
   "cell_type": "code",
   "execution_count": 15,
   "metadata": {},
   "outputs": [
    {
     "data": {
      "text/plain": [
       "False"
      ]
     },
     "execution_count": 15,
     "metadata": {},
     "output_type": "execute_result"
    }
   ],
   "source": [
    "def isSubset(arr1, arr2):\n",
    "    hash_table = {}\n",
    "    if len(arr1) > len(arr2):\n",
    "        smol_array = arr2\n",
    "        large_array = arr1\n",
    "        \n",
    "    else:\n",
    "        large_array = arr2\n",
    "        smol_array = arr1\n",
    "        \n",
    "    for i in large_array:\n",
    "        hash_table[i] = True\n",
    "    for j in smol_array:\n",
    "        if j not in hash_table.keys():\n",
    "            return False\n",
    "    return True\n",
    "        \n",
    "isSubset([\"a\", \"z\", \"c\"], [\"a\", \"b\", \"c\", \"d\"])\n",
    "        "
   ]
  },
  {
   "cell_type": "markdown",
   "metadata": {},
   "source": [
    " Write a function that returns the intersection of two arrays"
   ]
  },
  {
   "cell_type": "code",
   "execution_count": 22,
   "metadata": {},
   "outputs": [
    {
     "name": "stdout",
     "output_type": "stream",
     "text": [
      "[2, 3, 5]\n"
     ]
    }
   ],
   "source": [
    "def intersection(arr1, arr2):\n",
    "    hash_table = {}\n",
    "    a = []\n",
    "    for i in arr1:\n",
    "        hash_table[i] = True\n",
    "    \n",
    "    for j in arr2:\n",
    "        if j in hash_table.keys():\n",
    "            a.append(j)\n",
    "    print(a)\n",
    "\n",
    "intersection([1,2,3,4,5], [2,3,5,9,7])"
   ]
  },
  {
   "cell_type": "markdown",
   "metadata": {},
   "source": [
    " Write a function that accepts an array of strings and returns the first duplicate value it finds"
   ]
  },
  {
   "cell_type": "code",
   "execution_count": 24,
   "metadata": {},
   "outputs": [
    {
     "name": "stdout",
     "output_type": "stream",
     "text": [
      "b\n",
      "a\n"
     ]
    }
   ],
   "source": [
    "def find_duplicate(arr1):\n",
    "    h = {}\n",
    "    \n",
    "    for i in arr1:\n",
    "        if i not in h.keys():\n",
    "            h[i] = True\n",
    "        else:\n",
    "            print(i)\n",
    "            \n",
    "find_duplicate([\"a\", \"b\", \"c\", \"b\", \"a\"])\n",
    "        \n",
    "    \n",
    "    "
   ]
  },
  {
   "cell_type": "markdown",
   "metadata": {},
   "source": [
    "Write a function that accepts a string that contains all the letters of the alphabet except one and returns the missing letter. For example, the string, \"the quick brown box jumps over a lazy dog\" contains all the letters of the alphabet except the letter, \"f\". The function should have a time complexity of O(N)."
   ]
  },
  {
   "cell_type": "code",
   "execution_count": 41,
   "metadata": {},
   "outputs": [
    {
     "name": "stdout",
     "output_type": "stream",
     "text": [
      "b\n",
      "c\n",
      "d\n",
      "e\n",
      "fg\n",
      "i\n",
      "j\n",
      "l\n",
      "m\n",
      "o\n",
      "p\n",
      "q\n",
      "r\n",
      "t\n",
      "v\n",
      "w\n",
      "x\n",
      "y\n",
      "z\n"
     ]
    }
   ],
   "source": [
    "def my_dict(str1):\n",
    "    h = {}\n",
    "    d = ['a', 'b', 'c', 'd', 'e', 'f' 'g', 'h', 'i', 'j', 'k', 'l', 'm', 'n',\n",
    "     'o', 'p', 'q', 'r', 's', 't', 'u', 'v', 'w', 'x', 'y', 'z']\n",
    "    for i in range(len(str1)):\n",
    "        h[str1[i]] = True\n",
    "    for item in d:\n",
    "        if item not in h.keys():\n",
    "            print(item)\n",
    "\n",
    "my_dict('anushka')\n",
    "    \n",
    "    "
   ]
  },
  {
   "cell_type": "markdown",
   "metadata": {},
   "source": [
    " Write a function that returns the first non-duplicated character in a string.\n",
    " For example, the string, \"minimum\" has two characters that only exist\n",
    " once—the \"n\" and the \"u\", so your function should return the \"n\", since it occurs first. The function should have an efficiency of O(N).\n"
   ]
  },
  {
   "cell_type": "code",
   "execution_count": 72,
   "metadata": {},
   "outputs": [
    {
     "data": {
      "text/plain": [
       "'p'"
      ]
     },
     "execution_count": 72,
     "metadata": {},
     "output_type": "execute_result"
    }
   ],
   "source": [
    "def non_dupe(str1):\n",
    "    h = {}\n",
    "    count = 0\n",
    "    for item in str1:\n",
    "        if item not in h.keys():\n",
    "            h[item] = 0\n",
    "        else:\n",
    "            count +=1\n",
    "            h[item] = count\n",
    "            \n",
    "    for item in str1:\n",
    "        if h[item] == 0:\n",
    "            return item\n",
    "        \n",
    "        \n",
    "non_dupe('aajjkkpm')\n",
    "        "
   ]
  },
  {
   "cell_type": "markdown",
   "metadata": {},
   "source": [
    "# Stacks"
   ]
  },
  {
   "cell_type": "code",
   "execution_count": 3,
   "metadata": {
    "scrolled": true
   },
   "outputs": [
    {
     "name": "stdout",
     "output_type": "stream",
     "text": [
      "deque([8, 13, 78])\n"
     ]
    },
    {
     "data": {
      "text/plain": [
       "8"
      ]
     },
     "execution_count": 3,
     "metadata": {},
     "output_type": "execute_result"
    }
   ],
   "source": [
    "from collections import deque\n",
    "stack = deque()\n",
    "stack.append(8)\n",
    "stack.append(13)\n",
    "stack.append(78)\n",
    "print(stack)\n",
    "stack.pop()\n",
    "stack.pop()\n",
    "stack.pop()"
   ]
  },
  {
   "cell_type": "markdown",
   "metadata": {},
   "source": [
    "# Stack-based Linter"
   ]
  },
  {
   "cell_type": "code",
   "execution_count": 17,
   "metadata": {},
   "outputs": [
    {
     "data": {
      "text/plain": [
       "'No opening brace present'"
      ]
     },
     "execution_count": 17,
     "metadata": {},
     "output_type": "execute_result"
    }
   ],
   "source": [
    "from collections import deque\n",
    "\n",
    "match = { '}': '{', ']':'[',')':'('}\n",
    "def bracket_checker(text):\n",
    "    stack = deque()\n",
    "    for item in text:\n",
    "        if item in ['{', '(', '[']:\n",
    "            stack.append(item)\n",
    "        elif item in ['}', ')', ']']:\n",
    "            popped_element = stack.pop() if stack else None\n",
    "            if popped_element is None:\n",
    "                return 'No opening brace present'\n",
    "            elif popped_element != match[item]:\n",
    "                return 'Mismatch, no pair formed'\n",
    "            \n",
    "    if stack:\n",
    "        return 'No closing brace present'\n",
    "        \n",
    "    return True\n",
    "    \n",
    "text = 'a = {[y: [1, 2, 3]](check_linting(text))}}'\n",
    "bracket_checker(text)\n",
    "            "
   ]
  },
  {
   "cell_type": "markdown",
   "metadata": {},
   "source": [
    "# Reverse Stack"
   ]
  },
  {
   "cell_type": "code",
   "execution_count": 22,
   "metadata": {},
   "outputs": [
    {
     "data": {
      "text/plain": [
       "'seueuq dna skcats'"
      ]
     },
     "execution_count": 22,
     "metadata": {},
     "output_type": "execute_result"
    }
   ],
   "source": [
    "from collections import deque\n",
    "def reverse_str(text):\n",
    "    stack = deque()\n",
    "    rstr = ''\n",
    "    for i in text:\n",
    "        stack.append(i)\n",
    "    \n",
    "    while len(stack) != 0:\n",
    "        rstr += stack.pop()\n",
    "    return rstr\n",
    "\n",
    "reverse_str('stacks and queues')\n",
    "            "
   ]
  },
  {
   "cell_type": "markdown",
   "metadata": {},
   "source": [
    "# Queues"
   ]
  },
  {
   "cell_type": "code",
   "execution_count": 23,
   "metadata": {},
   "outputs": [
    {
     "name": "stdout",
     "output_type": "stream",
     "text": [
      "deque([1, 2, 13, -9])\n",
      "deque([13, -9])\n"
     ]
    }
   ],
   "source": [
    "from collections import deque\n",
    "\n",
    "queue = deque()\n",
    "\n",
    "queue.append(1)\n",
    "queue.append(2)\n",
    "queue.append(13)\n",
    "queue.append(-9)\n",
    "print(queue)\n",
    "\n",
    "queue.popleft()\n",
    "queue.popleft()\n",
    "print(queue)"
   ]
  },
  {
   "cell_type": "code",
   "execution_count": 31,
   "metadata": {},
   "outputs": [
    {
     "name": "stdout",
     "output_type": "stream",
     "text": [
      "5789\n"
     ]
    }
   ],
   "source": [
    "def isPalindrome(x):\n",
    "      \n",
    "    if x < 0:\n",
    "        return False\n",
    "    x = str(x)\n",
    "    reverse = ''\n",
    "    for i in range(len(x)):\n",
    "        reverse = str(x[i]) + reverse\n",
    "    print(reverse)\n",
    "    if reverse == x:\n",
    "        return True\n",
    "    \n",
    "isPalindrome(9875)        "
   ]
  },
  {
   "cell_type": "code",
   "execution_count": 36,
   "metadata": {},
   "outputs": [
    {
     "data": {
      "text/plain": [
       "55"
      ]
     },
     "execution_count": 36,
     "metadata": {},
     "output_type": "execute_result"
    }
   ],
   "source": [
    "def sum(low, high):\n",
    "# Base case:\n",
    "    if high == low:\n",
    "        return low\n",
    "    \n",
    "    return high + sum(low, high - 1)\n",
    "    \n",
    "\n",
    "sum(0,10)"
   ]
  },
  {
   "cell_type": "markdown",
   "metadata": {},
   "source": [
    "Here is an array containing both numbers as well as other arrays, which\n",
    "in turn contain numbers and arrays:\n",
    "    Write a recursive function that prints all the numbers (and just numbers)."
   ]
  },
  {
   "cell_type": "code",
   "execution_count": 45,
   "metadata": {
    "scrolled": true
   },
   "outputs": [
    {
     "name": "stdout",
     "output_type": "stream",
     "text": [
      "1\n",
      "2\n",
      "3\n",
      "4\n",
      "5\n",
      "6\n",
      "7\n",
      "8\n",
      "9\n",
      "10\n",
      "11\n",
      "12\n",
      "13\n",
      "14\n",
      "15\n",
      "16\n",
      "17\n",
      "18\n",
      "19\n",
      "20\n",
      "21\n",
      "22\n",
      "23\n",
      "24\n",
      "25\n",
      "26\n",
      "27\n",
      "29\n",
      "30\n",
      "31\n",
      "32\n",
      "33\n"
     ]
    }
   ],
   "source": [
    "def all_numbers(arr):\n",
    "    \n",
    "    for item in arr:\n",
    "    # if the current item is a \"list\", i.e. array:\n",
    "        if isinstance(item,list):\n",
    "            all_numbers(item)\n",
    "        else:\n",
    "            print(item)\n",
    "    \n",
    "    \n",
    "    \n",
    "arr = [ 1,2,3,[4, 5, 6],7,[8,[9, 10, 11,[12, 13, 14]]],[15, 16, 17, 18, 19,[20, 21, 22,[23, 24, 25,[26, 27, 29]],\n",
    "                                                                               30, 31], 32], 33]\n",
    "all_numbers(arr)\n"
   ]
  },
  {
   "cell_type": "code",
   "execution_count": 49,
   "metadata": {},
   "outputs": [
    {
     "data": {
      "text/plain": [
       "7"
      ]
     },
     "execution_count": 49,
     "metadata": {},
     "output_type": "execute_result"
    }
   ],
   "source": [
    "def number_of_paths(n):\n",
    "    if n <= 0:\n",
    "        return 0 \n",
    "    if n == 1:\n",
    "        return 1 \n",
    "    if n == 2:\n",
    "        return 2 \n",
    "    if n == 3:\n",
    "        return 4 \n",
    "    return number_of_paths(n - 1) + number_of_paths(n - 2) + number_of_paths(n - 3)\n",
    "\n",
    "number_of_paths(4)"
   ]
  },
  {
   "cell_type": "markdown",
   "metadata": {},
   "source": [
    "Use recursion to write a function that accepts an array of strings and returns the total number of characters across all the strings. For example, if the input array is [\"ab\", \"c\", \"def\", \"ghij\"], the output should be 10 since there are 10 characters in total"
   ]
  },
  {
   "cell_type": "code",
   "execution_count": null,
   "metadata": {},
   "outputs": [],
   "source": [
    "def count_char(str):\n",
    "\n",
    "    if str == '':\n",
    "        return 0\n",
    "    else:\n",
    "        sum = 1\n",
    "        return sum + count_char(str[1:])\n"
   ]
  },
  {
   "cell_type": "markdown",
   "metadata": {},
   "source": [
    "Use recursion to write a function that accepts an array of numbers and returns a new array containing just the even numbers"
   ]
  },
  {
   "cell_type": "code",
   "execution_count": null,
   "metadata": {},
   "outputs": [],
   "source": [
    "\n",
    "def is_even(x):\n",
    "    if x%2 == 0:\n",
    "        return True\n",
    "    return False\n",
    "\n",
    "def get_even(arr):\n",
    "\n",
    "    if arr == []:\n",
    "        return []\n",
    "\n",
    "    even_list = []\n",
    "    temp = get_even(arr[1:])\n",
    "    print(1, temp)\n",
    "\n",
    "    if is_even(arr[0]):\n",
    "        even_list.append(arr[0])\n",
    "        print(2, even_list)\n",
    "    \n",
    "    return even_list + temp\n"
   ]
  },
  {
   "cell_type": "markdown",
   "metadata": {},
   "source": [
    "There is a numerical sequence known as “Triangular Numbers.” The pattern begins as 1, 3, 6, 10, 15, 21, and continues onward with the Nth number in the pattern, which is N plus the previous number. For example, the 7th number in the sequence is 28, since it’s 7 (which is N) plus 21 (the previous number in the sequence). Write a function that accepts a number for N and returns the correct number from the series. That is, if the function was passed the number 7, the function would return 28.\n"
   ]
  },
  {
   "cell_type": "code",
   "execution_count": null,
   "metadata": {},
   "outputs": [],
   "source": [
    "\n",
    "def triangular_num(N):\n",
    "\n",
    "    if N == 0:\n",
    "        return 0\n",
    "    else:\n",
    "        return N + triangular_num(N-1)\n"
   ]
  },
  {
   "cell_type": "markdown",
   "metadata": {},
   "source": [
    "Use recursion to write a function that accepts a string and returns the\n",
    "first index that contains the character “x.” For example, the string,\n",
    "\"abcdefghijklmnopqrstuvwxyz\" has an “x” at index 23. To keep things simple,\n",
    "assume the string definitely has at least one “x.”"
   ]
  },
  {
   "cell_type": "code",
   "execution_count": null,
   "metadata": {},
   "outputs": [],
   "source": [
    "def get_index(word):\n",
    "\n",
    "    if word[0] == 'x':\n",
    "        return 0\n",
    "    else:\n",
    "        return 1 + get_index(word[1:])\n"
   ]
  },
  {
   "cell_type": "code",
   "execution_count": null,
   "metadata": {},
   "outputs": [],
   "source": [
    "def unique_paths(x,y):\n",
    "    \n",
    "    if x < 1 or y < 1:\n",
    "        return 0\n",
    "    if x == 1 or y == 1:\n",
    "        return 1\n",
    "    \n",
    "    return unique_paths(x-1,y) + unique_paths(x,y-1)\n",
    "\n",
    "print(unique_paths(3,7))"
   ]
  },
  {
   "cell_type": "markdown",
   "metadata": {},
   "source": [
    "# Partition"
   ]
  },
  {
   "cell_type": "code",
   "execution_count": null,
   "metadata": {},
   "outputs": [],
   "source": [
    "def partition(arr, left ,right):\n",
    "\n",
    "    pivot_index = right\n",
    "    pivot = arr[pivot_index]\n",
    "    right = right - 1\n",
    "\n",
    "    while True:\n",
    "\n",
    "        while arr[left] < pivot:\n",
    "            left += 1\n",
    "        \n",
    "        while arr[right] > pivot:\n",
    "            right -= 1\n",
    "        \n",
    "        if left >= right:\n",
    "            break\n",
    "        else:\n",
    "            arr[left], arr[right] = arr[right], arr[left]\n",
    "            left += 1\n",
    "    \n",
    "    arr[left], arr[pivot_index] = arr[pivot_index], arr[left]\n",
    "\n",
    "    return left"
   ]
  },
  {
   "cell_type": "markdown",
   "metadata": {},
   "source": [
    "# Quicksort"
   ]
  },
  {
   "cell_type": "code",
   "execution_count": null,
   "metadata": {},
   "outputs": [],
   "source": [
    "def partition(arr, left ,right):\n",
    "\n",
    "    pivot_index = right\n",
    "    pivot = arr[pivot_index]\n",
    "    right = right - 1\n",
    "\n",
    "    while True:\n",
    "\n",
    "        while arr[left] < pivot:\n",
    "            left += 1\n",
    "        \n",
    "        while arr[right] > pivot:\n",
    "            right -= 1\n",
    "        \n",
    "        if left >= right:\n",
    "            break\n",
    "        else:\n",
    "            arr[left], arr[right] = arr[right], arr[left]\n",
    "            left += 1\n",
    "    \n",
    "    arr[left], arr[pivot_index] = arr[pivot_index], arr[left]\n",
    "\n",
    "    return left\n",
    "\n",
    "def quick_sort(arr, left, right):\n",
    "    if right - left <= 0:\n",
    "        return\n",
    "    \n",
    "    pivot = partition(arr, left, right)\n",
    "    quick_sort(arr, left, pivot-1)\n",
    "    quick_sort(arr, pivot+1, right)\n",
    "\n",
    "arr = [0,5,2,1,6,3]    \n",
    "quick_sort(arr, 0, 5)\n",
    "print(arr)"
   ]
  },
  {
   "cell_type": "markdown",
   "metadata": {},
   "source": [
    "# Quickselect"
   ]
  },
  {
   "cell_type": "code",
   "execution_count": null,
   "metadata": {},
   "outputs": [],
   "source": []
  },
  {
   "cell_type": "code",
   "execution_count": null,
   "metadata": {},
   "outputs": [],
   "source": [
    "def gcd(a, b):\n",
    "\n",
    "    # print(a,b,a%b)\n",
    "    if(b == 0):\n",
    "        return a\n",
    "    \n",
    "    return gcd(b, a%b)\n",
    "\n",
    "print(gcd(12378, 3054))\n",
    "# print(gcd(6,10))"
   ]
  },
  {
   "cell_type": "markdown",
   "metadata": {},
   "source": [
    "Given an array of positive numbers, write a function that returns the\n",
    "greatest product of any three numbers. The approach of using three\n",
    "nested loops would clock in at O(N^3\n",
    "), which is very slow. Use sorting to\n",
    "implement the function in a way that it computes at O(N log N) speed"
   ]
  },
  {
   "cell_type": "code",
   "execution_count": 3,
   "metadata": {},
   "outputs": [
    {
     "name": "stdout",
     "output_type": "stream",
     "text": [
      "504\n"
     ]
    }
   ],
   "source": [
    "def greatestProductOf3(array):\n",
    "    if len(array) <3:\n",
    "        print(\"Add more numbers\")\n",
    "        \n",
    "    else:\n",
    "        array.sort()\n",
    "        return array[len(array) - 1] * array[len(array) - 2] * array[len(array) - 3]\n",
    "        \n",
    "\n",
    "\n",
    "print(greatestProductOf3([2,3,4,7,8,9,5]))"
   ]
  },
  {
   "cell_type": "markdown",
   "metadata": {},
   "source": [
    "The following function finds the “missing number” from an array of integers. That is, the array is expected to have all integers from 0 up to the array’s length, but one is missing. As examples, the array, [5, 2, 4, 1, 0] is\n",
    "missing the number 3, and the array, [9, 3, 2, 5, 6, 7, 1, 0, 4] is missing the number 8.\n",
    "Here’s an implementation that is O(N^2) (the included method alone is already\n",
    "O(N), since the computer needs to search the entire array to find n):\n",
    "function findMissingNumber(array) {\n",
    "for(let i = 0; i < array.length; i++) {\n",
    "if(!array.includes(i)) {\n",
    "return i;\n",
    "}\n",
    "}\n",
    "Use Sorting to write a new implementation of the problem"
   ]
  },
  {
   "cell_type": "code",
   "execution_count": 4,
   "metadata": {},
   "outputs": [
    {
     "name": "stdout",
     "output_type": "stream",
     "text": [
      "8\n"
     ]
    }
   ],
   "source": [
    "def findMissingNumber(array):\n",
    "    a = array.sort()\n",
    "    for i in range(len(array)):\n",
    "        if array[i] != i:\n",
    "            return i\n",
    "        \n",
    "print(findMissingNumber([9, 3, 2, 5, 6, 7, 1, 0, 4]))"
   ]
  },
  {
   "cell_type": "markdown",
   "metadata": {},
   "source": [
    "Write three different implementations of a function that finds the greatest\n",
    "number within an array. Write one function that is O(N2\n",
    "), one that is O(N\n",
    "log N), and one that is O(N)."
   ]
  },
  {
   "cell_type": "code",
   "execution_count": 8,
   "metadata": {},
   "outputs": [
    {
     "name": "stdout",
     "output_type": "stream",
     "text": [
      "8\n"
     ]
    }
   ],
   "source": [
    "def GreatestNumber(array):\n",
    "    h = array[0]\n",
    "    for i in range(0, len(array)):\n",
    "        for j in range(1, len(array)):\n",
    "            if array[j] > array[i]:\n",
    "                h = array[j]\n",
    "    return h\n",
    "\n",
    "print(GreatestNumber([1,5,4,6,7,8]))"
   ]
  },
  {
   "cell_type": "code",
   "execution_count": 9,
   "metadata": {},
   "outputs": [
    {
     "name": "stdout",
     "output_type": "stream",
     "text": [
      "8\n"
     ]
    }
   ],
   "source": [
    "def GreatestNumber(array):\n",
    "    array.sort()\n",
    "    return array[len(array)-1]\n",
    "\n",
    "print(GreatestNumber([1,5,4,6,7,8]))"
   ]
  },
  {
   "cell_type": "code",
   "execution_count": 10,
   "metadata": {},
   "outputs": [
    {
     "name": "stdout",
     "output_type": "stream",
     "text": [
      "8\n"
     ]
    }
   ],
   "source": [
    "def GreatestNumber(array):\n",
    "    h = 0\n",
    "    for i in range(len(array)):\n",
    "        if array[i] > h:\n",
    "            h = array[i]\n",
    "            \n",
    "    return h  \n",
    "\n",
    "print(GreatestNumber([1,5,4,6,7,8]))"
   ]
  },
  {
   "cell_type": "markdown",
   "metadata": {},
   "source": [
    "# Some pointers about OOP in Python\n",
    "\n",
    "The books and other publications, which a library offers, are like the data in an object-oriented program. Access to the books is restricted like access to the data is restricted in OOP. Getting or returning a book is only possible via the staff. The staff functions like the methods in OOP, which control the access to the data. So, the data, - often called attributes, - in such a program can be seen as being hidden and protected by a shell, and it can only be accessed by special functions, usually called methods in the OOP context. Putting the data behind a \"shell\" is called Encapsulation. So a library can be regarded as a class and a book is an instance or an object of this class. Generally speaking, an object is defined by a class. A class is a formal description of how an object is designed, i.e. which attributes and methods it has. These objects are called instances as well.\n",
    "\n",
    "Everything is a class in Python. Guido van Rossum has designed the language according to the principle \"first-class everything\". He wrote: \"One of my goals for Python was to make it so that all objects were \"first class.\" By this, I meant that I wanted all objects that could be named in the language (e.g., integers, strings, functions, classes, modules, methods, and so on) to have equal status. That is, they can be assigned to variables, placed in lists, stored in dictionaries, passed as arguments, and so forth.\" In other words, \"everything\" is treated the same way, everything is a class: functions and methods are values just like lists, integers or floats.\n",
    "\n",
    "A class consists of two parts: the header and the body. The header usually consists of just one line of code. It begins with the keyword \"class\" followed by a blank and an arbitrary name for the class. The class name is followed by a listing of other class names, which are classes from which the defined class inherits. These classes are called superclasses, base classes or sometimes parent classes\n"
   ]
  },
  {
   "cell_type": "markdown",
   "metadata": {},
   "source": [
    "# Linked List"
   ]
  },
  {
   "cell_type": "code",
   "execution_count": 7,
   "metadata": {},
   "outputs": [
    {
     "name": "stdout",
     "output_type": "stream",
     "text": [
      "1\n",
      "2\n",
      "3\n",
      "4\n",
      "5\n",
      "5\n",
      "4\n",
      "3\n",
      "2\n",
      "1\n"
     ]
    }
   ],
   "source": [
    "class Node:\n",
    "    \n",
    "    def __init__(self, data):\n",
    "        self.data = data\n",
    "        self.next = None\n",
    "        \n",
    "class Linkedlist:            #class linkedlist contains all the objects which follows objects of class node\n",
    "    def __init__(self):\n",
    "        self.head = None    # pointer\n",
    "        \n",
    "    def InsertAtBeginning(self, data):\n",
    "        temp = Node(data)\n",
    "        if self.head == None:\n",
    "            self.head = temp\n",
    "        else:\n",
    "            temp.next = self.head\n",
    "            self.head = temp\n",
    "            \n",
    "    def InsertAtEnd(self, data):\n",
    "        temp = Node(data)\n",
    "        if self.head == None:\n",
    "            self.head = temp\n",
    "        else:\n",
    "            curr = self.head\n",
    "            while curr.next != None:\n",
    "                curr = curr.next\n",
    "            curr.next = temp\n",
    "            \n",
    "    def InsertAtGivenPosition(self, data, position):\n",
    "        temp = Node(data)\n",
    "        if self.head == None:\n",
    "            self.head = temp\n",
    "        else:\n",
    "            count = 1\n",
    "            curr = self.head\n",
    "            while count < position - 1 and curr != None:\n",
    "                curr = curr.next\n",
    "                count += 1\n",
    "            temp = Node(data)\n",
    "            temp.next = curr.next\n",
    "            curr.next = temp\n",
    " \n",
    "    def Traverse(self):\n",
    "        curr = self.head\n",
    "        while curr != None:\n",
    "            print(curr.data)\n",
    "            curr = curr.next\n",
    "    \n",
    "    def DeleteFromBeginning(self):\n",
    "        try:\n",
    "            if self.head == None:\n",
    "                raise Exception(\"Empty Linked List\")\n",
    "            else:\n",
    "                temp = self.head\n",
    "                self.head = self.head.next\n",
    "                del temp\n",
    "        except Exception as e:\n",
    "            print(str(e))\n",
    "    \n",
    "    def DeleteFromEnd(self):\n",
    "        try:\n",
    "            if self.head == None:\n",
    "                raise Exception(\"Empty Linked List\")\n",
    "            else:\n",
    "                curr = self.head\n",
    "                prev = None\n",
    "                while curr.next != None:\n",
    "                    prev = curr\n",
    "                    curr = curr.next\n",
    "                prev.next = curr.next\n",
    "                del curr\n",
    "        except Exception as e:\n",
    "            print(str(e))\n",
    "            \n",
    "    def DeleteAtPos(self, position):\n",
    "        try:\n",
    "            if self.head == None:\n",
    "                raise Exception(\"Empty Linked List\")\n",
    "            else:\n",
    "                curr = self.head\n",
    "                prev = None\n",
    "                count = 1\n",
    "                while curr != None and count < position:\n",
    "                    prev = curr\n",
    "                    curr = curr.next\n",
    "                    count += 1\n",
    "                prev.next = curr.next\n",
    "                del curr\n",
    "        except Exception as e:\n",
    "            print(str(e))\n",
    "  \n",
    "    def reverse_list(self):\n",
    "        p_node = None\n",
    "        c_node = self.head\n",
    "        \n",
    "        \n",
    "        while c_node != None:\n",
    "            n_node = c_node.next\n",
    "            c_node.next = p_node\n",
    "            p_node = c_node\n",
    "            c_node = n_node\n",
    "            \n",
    "        self.head = p_node\n",
    "        \n",
    "        \n",
    "        \n",
    "L = Linkedlist()\n",
    "L.InsertAtBeginning(5)\n",
    "L.InsertAtBeginning(4)\n",
    "L.InsertAtBeginning(3)\n",
    "L.InsertAtBeginning(2)\n",
    "L.InsertAtBeginning(1)\n",
    "L.Traverse()\n",
    "L.reverse_list()\n",
    "L.Traverse()"
   ]
  },
  {
   "cell_type": "markdown",
   "metadata": {},
   "source": [
    "# Doubly Linked List"
   ]
  },
  {
   "cell_type": "code",
   "execution_count": null,
   "metadata": {},
   "outputs": [],
   "source": [
    "class None:\n",
    "    def __init__(self, data):\n",
    "        self.data = data\n",
    "        self.next = None\n",
    "        self.prev = None\n",
    "        \n",
    "class DoublyLinkedlist:            #class linkedlist contains all the objects which follows objects of class node\n",
    "    def __init__(self):\n",
    "        self.head = None\n",
    "        self.tail = None\n",
    "        \n",
    "    def InsertAtBeginning(self, data):\n",
    "        temp = Node(data)\n",
    "        if self.head == None:\n",
    "            self.head = temp\n",
    "            self.tail = temp\n",
    "        else:\n",
    "            temp.next = self.head\n",
    "            self.head.prev = temp\n",
    "            self.head = temp\n",
    "    \n",
    "    def InsertAtEnd(self, data):\n",
    "        temp = Node(data)\n",
    "        if self.head == None:\n",
    "            self.head = temp\n",
    "            self.tail = None\n",
    "            \n",
    "        else:\n",
    "            temp.prev = self.tail\n",
    "            self.tail.next = temp\n",
    "            self.tail = temp\n",
    "            \n",
    "    def InsertAtGivenPosition(self, data):\n",
    "        temp = Node(data)\n",
    "        if self.head == None:\n",
    "            self.head = temp\n",
    "            self.tail = temp\n",
    "        else:\n",
    "            count = 1\n",
    "            curr = self.head\n",
    "            while count < position - 1 and curr != None:\n",
    "                curr = curr.next\n",
    "                count += 1\n",
    "            temp = Node(data)\n",
    "            temp.prev = curr\n",
    "            temp.next = curr.next\n",
    "            curr.next = temp\n",
    "            temp.next.prev = temp\n",
    "        \n",
    "    def Traverse(self):\n",
    "        curr = self.head\n",
    "        while curr != None:\n",
    "            print(curr.data)\n",
    "            curr = curr.next\n",
    "            \n",
    "    def DeleteFromBeginning(self):\n",
    "        if self.head == None:\n",
    "            print('Empty Linked List')\n",
    "            \n",
    "        else:\n",
    "            temp = self.head\n",
    "            self.head = self.head.next\n",
    "            del temp\n",
    "            self.head.prev = None\n",
    "            \n",
    "            \n",
    "            "
   ]
  },
  {
   "cell_type": "markdown",
   "metadata": {},
   "source": [
    "# Queues As Doubly Linked List"
   ]
  },
  {
   "cell_type": "code",
   "execution_count": null,
   "metadata": {},
   "outputs": [],
   "source": [
    "class None:\n",
    "    def __init__(self, data):\n",
    "        self.data = data\n",
    "        self.next = None\n",
    "        self.prev = None\n",
    "        \n",
    "class DoublyLinkedlist:            #class linkedlist contains all the objects which follows objects of class node\n",
    "    def __init__(self):\n",
    "        self.head = None\n",
    "        self.tail = None\n",
    "    \n",
    "     \n",
    "class Queues:\n",
    "    \n",
    "   "
   ]
  },
  {
   "cell_type": "markdown",
   "metadata": {},
   "source": [
    " Add a method to the DoublyLinkedList class that prints all the elements of\n",
    "the list in reverse order."
   ]
  },
  {
   "cell_type": "code",
   "execution_count": null,
   "metadata": {},
   "outputs": [],
   "source": [
    "class None:\n",
    "    def __init__(self, data):\n",
    "        self.data = data\n",
    "        self.next = None\n",
    "        self.prev = None\n",
    "        \n",
    "class DoublyLinkedlist:            #class linkedlist contains all the objects which follows objects of class node\n",
    "    def __init__(self):\n",
    "        self.head = None\n",
    "        self.tail = None\n",
    "    \n",
    "     def Traverse(self):\n",
    "        curr = self.tail\n",
    "        while curr != None:\n",
    "            print(curr.data)\n",
    "            curr = curr.prev"
   ]
  },
  {
   "cell_type": "code",
   "execution_count": null,
   "metadata": {},
   "outputs": [],
   "source": [
    "def delete_middle_node(node):\n",
    "    node.data = node.next.data\n",
    "    node.next = node.next.next\n",
    "    del node.next"
   ]
  },
  {
   "cell_type": "markdown",
   "metadata": {},
   "source": [
    "# Binary Search Tree"
   ]
  },
  {
   "cell_type": "code",
   "execution_count": 37,
   "metadata": {},
   "outputs": [
    {
     "data": {
      "text/plain": [
       "99"
      ]
     },
     "execution_count": 37,
     "metadata": {},
     "output_type": "execute_result"
    }
   ],
   "source": [
    "class TreeNode:\n",
    "    \n",
    "    def __init__(self, val, left = None, right = None):\n",
    "        \n",
    "        self.value = val\n",
    "        self.leftChild = left\n",
    "        self.rightChild = right\n",
    "   \n",
    "    \n",
    "def search(search_val, node):\n",
    "    \n",
    "    if node is None or node.value == search_val:\n",
    "        return node\n",
    "    \n",
    "    elif search_val < node.value:\n",
    "        print(node.value)\n",
    "        return search(search_val, node.leftChild)\n",
    "        \n",
    "    else:\n",
    "        print(node.value)\n",
    "        return search(search_val, node.rightChild)\n",
    "\n",
    "def traverse(node):\n",
    "    if node == None:\n",
    "        return\n",
    "    traverse(node.leftChild)\n",
    "    print(node.value)\n",
    "    traverse(node.rightChild)\n",
    "    \n",
    "def insertion(value, node):\n",
    "    if value < node.value:\n",
    "        if node.leftChild == None:\n",
    "            node.leftChild = TreeNode(value)\n",
    "        else:\n",
    "            insertion(value, node.leftChild)\n",
    "    \n",
    "    elif value > node.value:\n",
    "            if node.rightChild == None:\n",
    "                node.rightChild = TreeNode(value)\n",
    "            else:\n",
    "                insertion(value, node.rightChild)\n",
    "\n",
    "            \n",
    "def deletion(del_val, node):\n",
    "    # The base case is when we've hit the bottom of the tree, and the parent node has no children:\n",
    "    if node is None:\n",
    "        return None\n",
    "    \n",
    "    # If the value we're deleting is less or greater than the current node, we set the left or right child respectively \n",
    "    # to be the return value of a recursive call of this very method on the current node's left or right subtree.\n",
    "    \n",
    "    elif del_val < node.value:\n",
    "        node.leftChild = deletion(del_value, node.leftChild)\n",
    "    # We return the current node (and its subtree if existent) to \n",
    "    # be used as the new value of its parent's left or right child:\n",
    "        return node\n",
    "\n",
    "    elif del_value > node.value:\n",
    "        node.rightChild = deletion(del_value, node.rightChild)\n",
    "        return node\n",
    "    # If the current node is the one we want to delete:\n",
    "    \n",
    "    elif del_value == node.value:\n",
    "    # (If the current node has no left OR right child, this ends up\n",
    "    # being None as per the first line of code in this function.)\n",
    "    \n",
    "        if node.leftChild is None:\n",
    "            return node.rightChild\n",
    "\n",
    "        elif node.rightChild is None:\n",
    "            return node.leftChild\n",
    "        # If the current node has two children, we delete the current node by calling the lift function (below),\n",
    "        # which changes the current node's value to the value of its successor node:\n",
    "        \n",
    "        else:\n",
    "            node.rightChild = lift(node.rightChild, node)\n",
    "            return node\n",
    "    \n",
    "    def lift(node, nodeToDelete):\n",
    "    # If the current node of this function has a left child, we recursively call this function to continue down\n",
    "    # the left subtree to find the successor node.\n",
    "        if node.leftChild:\n",
    "            node.leftChild = lift(node.leftChild, nodeToDelete)\n",
    "            return node\n",
    "    \n",
    "    # If the current node has no left child, that means the current node of this function is the successor node, \n",
    "    # and we take its value and make it the new value of the node that we're deleting:\n",
    "        else:\n",
    "            nodeToDelete.value = node.value\n",
    "    # We return the successor node's right child to be now used as its parent's left child:\n",
    "            return node.rightChild\n",
    "\n",
    "\n",
    "Write an algorithm that finds the greatest value within a binary search tree.\n",
    "\n",
    "def maximum_val(node):\n",
    "    \n",
    "    if node.rightChild:\n",
    "        return maximum_val(node.rightChild) \n",
    "    else:\n",
    "        return node.value\n",
    "\"\"\"      \n",
    "def maximum_val(node):\n",
    "    \n",
    "    if node.rightChild is None:\n",
    "        return node.value\n",
    "    else:\n",
    "        return maximum_val(node.rightChild)\n",
    "\"\"\"\n",
    "\n",
    "node1 = TreeNode(25)\n",
    "node2 = TreeNode(75)\n",
    "root = TreeNode(50, node1, node2)\n",
    "\n",
    "#search(75,root)\n",
    "#traverse(root)\n",
    "insertion(65,root)\n",
    "insertion(45,root)\n",
    "insertion(88,root)\n",
    "insertion(35,root)\n",
    "insertion(25,root)\n",
    "insertion(99,root)\n",
    "maximum_val(root)"
   ]
  },
  {
   "cell_type": "markdown",
   "metadata": {},
   "source": [
    "# Heaps"
   ]
  },
  {
   "cell_type": "code",
   "execution_count": 21,
   "metadata": {},
   "outputs": [
    {
     "name": "stdout",
     "output_type": "stream",
     "text": [
      "88\n",
      "[88, 34, 76, 4, 9, 7, 55]\n",
      "[76, 34, 4, 9, 7, 55]\n"
     ]
    }
   ],
   "source": [
    "class heap():\n",
    "    data = []\n",
    "    \n",
    "    def initialize(self):\n",
    "        data = []\n",
    "        \n",
    "    def root_node(self):\n",
    "        return self.data[0]\n",
    "\n",
    "    def last_node(self):\n",
    "        return self.data[-1]\n",
    "    \n",
    "    def insertion(self, value):\n",
    "        self.data.append(value)\n",
    "        # Keep track of the index of the newly inserted node:\n",
    "        new_node_index = len(self.data) - 1\n",
    "        # The following loop executes the \"trickle up\" algorithm. If the new node is not in the root position,\n",
    "        # and it's greater than its parent node:\n",
    "        while new_node_index > 0 and self.data[new_node_index] > self.data[parent_index(new_node_index)]:\n",
    "            # Swap the new node with the parent node:\n",
    "            self.data[parent_index(new_node_index)], self.data[new_node_index] = \\\n",
    "            self.data[new_node_index], self.data[parent_index(new_node_index)]\n",
    "\n",
    "            # Update the index of the new node:\n",
    "            new_node_index = parent_index(new_node_index)\n",
    "        \n",
    "    def deletion(self):\n",
    "        # We only ever delete the root node from a heap, so we pop the last node from the array and make it the root node:\n",
    "        del self.data[0]\n",
    "        # Track the current index of the \"trickle node\":\n",
    "        trickle_node_index = 0\n",
    "        # The following loop executes the \"trickle down\" algorithm: We run the loop as long as the trickle node has a child\n",
    "        # that is greater than it:\n",
    "\n",
    "        while self.has_greater_child(trickle_node_index):\n",
    "            # Save larger child index in variable:\n",
    "            larger_child_index = calculate_larger_child_index(trickle_node_index)\n",
    "\n",
    "            # Swap the trickle node with its larger child:\n",
    "            self.data[trickle_node_index], self.data[larger_child_index] = \\\n",
    "            self.data[larger_child_index], self.data[trickle_node_index]\n",
    "\n",
    "            # Update trickle node's new index:\n",
    "            trickle_node_index = larger_child_index\n",
    "            \n",
    "    \n",
    "    def has_greater_child(self, index):\n",
    "    # We check whether the node at index has left and right children and if either of those children are greater\n",
    "    # than the node at index:\n",
    "        \n",
    "         flag = (self.data[left_child_index(index)] and \\\n",
    "                 self.data[left_child_index(index)] > self.data[index]) or (self.data[right_child_index(index)] and \\\n",
    "                 self.data[right_child_index(index)] > self.data[index])\n",
    "         return flag\n",
    "    \n",
    "    \n",
    "    def calculate_larger_child_index(self, index):\n",
    "        # If there is no right child:\n",
    "        if not self.data[right_child_index(index)]:\n",
    "            # Return left child index:\n",
    "            return left_child_index(index)\n",
    "\n",
    "        # If right child value is greater than left child value:\n",
    "        if self.data[right_child_index(index)] > self.data[left_child_index(index)]:\n",
    "        # Return right child index:\n",
    "            return right_child_index(index)\n",
    "\n",
    "        else: # If the left child value is greater or equal to right child: Return the left child index:\n",
    "            return left_child_index(index)\n",
    "            \n",
    "    def print_queue(self):\n",
    "        print(self.data)\n",
    "        \n",
    "\n",
    "    \n",
    "def left_child_index(index):\n",
    "    return (index * 2) + 1\n",
    "\n",
    "def right_child_index(index):\n",
    "    return (index * 2) + 2\n",
    "    \n",
    "def parent_index(index):\n",
    "    return  (index - 1)//2\n",
    " \n",
    "h = heap()\n",
    "h.initialize()\n",
    "h.insertion(9)\n",
    "h.insertion(34)\n",
    "h.insertion(7)\n",
    "h.insertion(4)\n",
    "h.insertion(55)\n",
    "h.insertion(76)\n",
    "h.insertion(88)\n",
    "root = h.root_node()\n",
    "print(root)\n",
    "h.print_queue()\n",
    "h.deletion()\n",
    "h.print_queue()"
   ]
  },
  {
   "cell_type": "code",
   "execution_count": 20,
   "metadata": {
    "scrolled": true
   },
   "outputs": [
    {
     "name": "stdout",
     "output_type": "stream",
     "text": [
      "[100, 87, 88, 25, 16, 8, 12]\n",
      "[88, 87, 25, 16, 8, 12]\n"
     ]
    }
   ],
   "source": [
    "data = []\n",
    "    \n",
    "def initialize():\n",
    "    data = []\n",
    "\n",
    "def root_node():\n",
    "    return data[0]\n",
    "\n",
    "def last_node():\n",
    "    return data[-1]\n",
    "\n",
    "def insertion(value):\n",
    "    data.append(value)\n",
    "\n",
    "    new_node_index = len(data) - 1\n",
    "\n",
    "    while new_node_index > 0 and data[new_node_index] > data[parent_index(new_node_index)]:\n",
    "\n",
    "        data[parent_index(new_node_index)], data[new_node_index] = \\\n",
    "        data[new_node_index], data[parent_index(new_node_index)]\n",
    "\n",
    "\n",
    "        new_node_index = parent_index(new_node_index)\n",
    "\n",
    "def deletion():\n",
    "    \n",
    "    data.pop(0)\n",
    "    trickle_node_index = 0\n",
    "\n",
    "    while has_greater_child(trickle_node_index):\n",
    "    \n",
    "        larger_child_index = calculate_larger_child_index(trickle_node_index)\n",
    "\n",
    "\n",
    "        data[trickle_node_index], data[larger_child_index] = \\\n",
    "        data[larger_child_index], data[trickle_node_index]\n",
    "\n",
    "        trickle_node_index = larger_child_index\n",
    "\n",
    "\n",
    "def has_greater_child(index):\n",
    "    \n",
    "    flag = (data[left_child_index(index)] and data[left_child_index(index)] > data[index]) or \\\n",
    "        (data[right_child_index(index)] and data[right_child_index(index)] > data[index])\n",
    "    \n",
    "    return flag\n",
    "\n",
    "def calculate_larger_child_index(index):\n",
    "\n",
    "    if not data[right_child_index(index)]:\n",
    "        return left_child_index(index)\n",
    "\n",
    "    if data[right_child_index(index)] > data[left_child_index(index)]:\n",
    "        return right_child_index(index)\n",
    "\n",
    "    else: \n",
    "        return left_child_index(index)\n",
    "\n",
    "def print_queue():\n",
    "    print(data)\n",
    "\n",
    "def left_child_index(index):\n",
    "    return (index * 2) + 1\n",
    "\n",
    "def right_child_index(index):\n",
    "    return (index * 2) + 2\n",
    "    \n",
    "def parent_index(index):\n",
    "    return  (index - 1)//2\n",
    "\n",
    "\n",
    "# insertion(9)\n",
    "# insertion(34)\n",
    "# insertion(7)\n",
    "# insertion(4)\n",
    "# insertion(55)\n",
    "# insertion(76)\n",
    "# insertion(88)\n",
    "\n",
    "insertion(88)\n",
    "insertion(25)\n",
    "insertion(100)\n",
    "insertion(87)\n",
    "insertion(16)\n",
    "insertion(8)\n",
    "insertion(12)\n",
    "\n",
    "print_queue()\n",
    "deletion()\n",
    "print_queue()"
   ]
  },
  {
   "cell_type": "markdown",
   "metadata": {},
   "source": [
    "# Implementing Graphs"
   ]
  },
  {
   "cell_type": "code",
   "execution_count": null,
   "metadata": {},
   "outputs": [],
   "source": [
    "class Vertex:\n",
    "    \n",
    "    def __init__(self, value):\n",
    "        self.value = value\n",
    "        self.adjacent_vertices = []\n",
    "    \n",
    "    # for directed graph\n",
    "    #def add_adjacent_vertex(self, vertex):\n",
    "    #   self.adjacent_vertices.append(vertex)\n",
    "        \n",
    "    def print_adjacent_vertices(self):\n",
    "        print(self.value, ':', [i.value for i in self.adjacent_vertices])\n",
    "        \n",
    "    #for undirected graph\n",
    "    def add_adjacent_vertex(self, vertex):\n",
    "        if vertex in self.adjacent_vertices:\n",
    "            return\n",
    "        self.adjacent_vertices.append(vertex) \n",
    "        vertex.add_adjacent_vertex(self)\n",
    "        #vertex.adjacent_vertices.append(self)\n",
    "    \n",
    "        \n",
    "alice = Vertex('Alice')\n",
    "bob = Vertex('Bob')\n",
    "cynthia = Vertex('Cynthia')\n",
    "\n",
    "alice.add_adjacent_vertex(bob)\n",
    "alice.add_adjacent_vertex(cynthia)\n",
    "bob.add_adjacent_vertex(cynthia)\n",
    "cynthia.add_adjacent_vertex(bob)\n",
    "        \n",
    "alice.print_adjacent_vertices()\n",
    "bob.print_adjacent_vertices()\n",
    "cynthia.print_adjacent_vertices()\n",
    "\n"
   ]
  },
  {
   "cell_type": "markdown",
   "metadata": {},
   "source": [
    "# Depth First Search"
   ]
  },
  {
   "cell_type": "code",
   "execution_count": 22,
   "metadata": {
    "scrolled": true
   },
   "outputs": [
    {
     "data": {
      "text/plain": [
       "'GINA'"
      ]
     },
     "execution_count": 22,
     "metadata": {},
     "output_type": "execute_result"
    }
   ],
   "source": [
    "class Vertex:\n",
    "    \n",
    "    def __init__(self, value):\n",
    "        self.value = value\n",
    "        self.adjacent_vertices = []\n",
    "    \n",
    "    # for directed graph\n",
    "    def add_adjacent_vertex(self, vertex):\n",
    "        self.adjacent_vertices.append(vertex)\n",
    "        \n",
    "    def print_adjacent_vertices(self):\n",
    "        print(self.value, ':', [i.value for i in self.adjacent_vertices])\n",
    "        \n",
    "    #for undirected graph\n",
    "    def add_adjacent_vertex(self, vertex):\n",
    "        if vertex in self.adjacent_vertices:\n",
    "            return\n",
    "        self.adjacent_vertices.append(vertex) \n",
    "        vertex.add_adjacent_vertex(self)\n",
    "        #vertex.adjacent_vertices.append(self)\n",
    "        \n",
    "#DFS for Traversing    \n",
    "def dfs_traverse(vertex, visited_vertices ={}):\n",
    "    visited_vertices[vertex.value] = True\n",
    "    print(vertex.value)\n",
    "    for adjacent_vertex in vertex.adjacent_vertices:\n",
    "        if visited_vertices.get(adjacent_vertex.value):\n",
    "            continue\n",
    "        \n",
    "        dfs_traverse(adjacent_vertex)\n",
    "        \n",
    "#DFS for Searching   \n",
    "def dfs(vertex, search_value, visited_vertices={}):\n",
    "    if vertex.value == search_value:\n",
    "        return vertex \n",
    "    visited_vertices[vertex.value] = True\n",
    "\n",
    "    for adjacent_vertex in vertex.adjacent_vertices:\n",
    "        if  visited_vertices.get(adjacent_vertex.value):\n",
    "            continue #continue the loop before going down\n",
    "\n",
    "        if adjacent_vertex.value == search_value:\n",
    "            return adjacent_vertex \n",
    "\n",
    "        vertex_were_searching_for = dfs(adjacent_vertex, search_value, visited_vertices)\n",
    "        if vertex_were_searching_for:\n",
    "            return vertex_were_searching_for\n",
    "\n",
    "    return None\n",
    "                \n",
    "alice = Vertex(\"ALICE\")\n",
    "bob = Vertex(\"BOB\")\n",
    "cynthia = Vertex(\"CYNTHIA\")\n",
    "derek = Vertex(\"DEREK\")\n",
    "elaine = Vertex(\"ELAINE\")\n",
    "frank = Vertex(\"FRANK\")\n",
    "gina = Vertex(\"GINA\")\n",
    "hank = Vertex(\"HANK\")\n",
    "irene = Vertex(\"IRENE\")\n",
    "\n",
    "alice.add_adjacent_vertex(bob)\n",
    "alice.add_adjacent_vertex(cynthia)\n",
    "alice.add_adjacent_vertex(derek)\n",
    "alice.add_adjacent_vertex(elaine)\n",
    "\n",
    "bob.add_adjacent_vertex(frank)\n",
    "frank.add_adjacent_vertex(hank)\n",
    "hank.add_adjacent_vertex(cynthia)\n",
    "\n",
    "derek.add_adjacent_vertex(elaine)\n",
    "derek.add_adjacent_vertex(gina)\n",
    "gina.add_adjacent_vertex(irene)\n",
    "\n",
    "#dfs_traverse(alice)          \n",
    "a = dfs(alice, \"GINA\")\n",
    "a.value\n",
    "        "
   ]
  },
  {
   "cell_type": "markdown",
   "metadata": {},
   "source": [
    "# Breadth First Search"
   ]
  },
  {
   "cell_type": "code",
   "execution_count": 28,
   "metadata": {},
   "outputs": [
    {
     "data": {
      "text/plain": [
       "'GINA'"
      ]
     },
     "execution_count": 28,
     "metadata": {},
     "output_type": "execute_result"
    }
   ],
   "source": [
    "class Vertex:\n",
    "    \n",
    "    def __init__(self, value):\n",
    "        self.value = value\n",
    "        self.adjacent_vertices = []\n",
    "    \n",
    "    # for directed graph\n",
    "    #def add_adjacent_vertex(self, vertex):\n",
    "     #   self.adjacent_vertices.append(vertex)\n",
    "        \n",
    "    def print_adjacent_vertices(self):\n",
    "        print(self.value, ':', [i.value for i in self.adjacent_vertices])\n",
    "        \n",
    "    #for undirected graph\n",
    "    def add_adjacent_vertex(self, vertex):\n",
    "        if vertex in self.adjacent_vertices:\n",
    "            return\n",
    "        self.adjacent_vertices.append(vertex) \n",
    "        vertex.add_adjacent_vertex(self)\n",
    "        \n",
    "from collections import deque        \n",
    "def bfs_traverse(starting_vertex, visited_vertices = {}):\n",
    "    queue = deque()\n",
    "    visited_vertices[starting_vertex.value] = True\n",
    "    queue.append(starting_vertex)\n",
    "    \n",
    "    while queue:\n",
    "        current_vertex = queue.popleft()\n",
    "        print(current_vertex.value)\n",
    "        for adjacent_v in current_vertex.adjacent_vertices:\n",
    "            \n",
    "            if not visited_vertices.get(adjacent_v.value):\n",
    "                visited_vertices[adjacent_v.value] = True\n",
    "                queue.append(adjacent_v)\n",
    "                \n",
    "def bfs(starting_vertex, search_value, visited_vertices={}):\n",
    "    if starting_vertex.value == search_value:\n",
    "        return starting_vertex \n",
    "    visited_vertices[starting_vertex.value] = True \n",
    "        \n",
    "    queue = deque()\n",
    "    visited_vertices[starting_vertex.value] = True\n",
    "    queue.append(starting_vertex)\n",
    "\n",
    "    while queue:\n",
    "        current_vertex = queue.popleft()\n",
    "        if current_vertex.value == search_value:\n",
    "        \n",
    "            return current_vertex.value\n",
    "        for adjacent_v in current_vertex.adjacent_vertices:\n",
    "\n",
    "            if not visited_vertices.get(adjacent_v.value):\n",
    "                visited_vertices[adjacent_v.value] = True\n",
    "                queue.append(adjacent_v)\n",
    "    \n",
    "    return None\n",
    "                \n",
    "alice = Vertex(\"ALICE\")\n",
    "bob = Vertex(\"BOB\")\n",
    "cynthia = Vertex(\"CYNTHIA\")\n",
    "derek = Vertex(\"DEREK\")\n",
    "elaine = Vertex(\"ELAINE\")\n",
    "frank = Vertex(\"FRANK\")\n",
    "gina = Vertex(\"GINA\")\n",
    "hank = Vertex(\"HANK\")\n",
    "irene = Vertex(\"IRENE\")\n",
    "\n",
    "alice.add_adjacent_vertex(bob)\n",
    "alice.add_adjacent_vertex(cynthia)\n",
    "alice.add_adjacent_vertex(derek)\n",
    "alice.add_adjacent_vertex(elaine)\n",
    "\n",
    "bob.add_adjacent_vertex(frank)\n",
    "frank.add_adjacent_vertex(hank)\n",
    "hank.add_adjacent_vertex(cynthia)\n",
    "\n",
    "derek.add_adjacent_vertex(elaine)\n",
    "derek.add_adjacent_vertex(gina)\n",
    "gina.add_adjacent_vertex(irene)\n",
    "\n",
    "#bfs_traverse(alice)\n",
    "bfs(alice, 'GINA')\n",
    "            "
   ]
  },
  {
   "cell_type": "markdown",
   "metadata": {},
   "source": [
    "# Implementing Weighted Directional Graphs"
   ]
  },
  {
   "cell_type": "code",
   "execution_count": 28,
   "metadata": {},
   "outputs": [
    {
     "name": "stdout",
     "output_type": "stream",
     "text": [
      "Toronto : ['Dallas']\n"
     ]
    },
    {
     "data": {
      "text/plain": [
       "{<__main__.WeightedGraph at 0x19efc6416a0>: 216}"
      ]
     },
     "execution_count": 28,
     "metadata": {},
     "output_type": "execute_result"
    }
   ],
   "source": [
    "class WeightedGraph:\n",
    "    def __init__(self, value):\n",
    "        self.value = value\n",
    "        self.adjacent_vertices = {}\n",
    "    \n",
    "    def add_adjacent_vertex(self, vertex, weight):\n",
    "        self.adjacent_vertices[vertex] = weight\n",
    "\n",
    "    def print_adjacent_vertices(self):\n",
    "        print(self.value, ':', [i.value for i in self.adjacent_vertices])\n",
    "            \n",
    "dallas = WeightedGraph(\"Dallas\")\n",
    "toronto = WeightedGraph(\"Toronto\")\n",
    "dallas.add_adjacent_vertex(toronto, 138)\n",
    "toronto.add_adjacent_vertex(dallas, 216)\n",
    "toronto.print_adjacent_vertices()\n",
    "toronto.adjacent_vertices"
   ]
  },
  {
   "cell_type": "code",
   "execution_count": 6,
   "metadata": {},
   "outputs": [
    {
     "data": {
      "text/plain": [
       "dict_keys(['Boston', 'NY'])"
      ]
     },
     "execution_count": 6,
     "metadata": {},
     "output_type": "execute_result"
    }
   ],
   "source": [
    "toronto = \"Toronto\"\n",
    "boston = \"Boston\"\n",
    "toronto_adj = {}\n",
    "toronto_adj[boston] = 130\n",
    "toronto_adj[\"NY\"] = 100\n",
    "toronto_adj.keys()"
   ]
  },
  {
   "cell_type": "markdown",
   "metadata": {},
   "source": [
    "# Dijkstra's Algorithm"
   ]
  },
  {
   "cell_type": "code",
   "execution_count": 24,
   "metadata": {
    "scrolled": false
   },
   "outputs": [
    {
     "name": "stdout",
     "output_type": "stream",
     "text": [
      "Atlanta : ['Boston', 'Denver']\n",
      "Boston : ['Chicago', 'Denver']\n",
      "Chicago : ['El Paso']\n",
      "Denver : ['Chicago', 'El Paso']\n",
      "El Paso : ['Boston']\n",
      "{'Boston': 'Atlanta', 'Denver': 'Atlanta', 'Chicago': 'Denver', 'El Paso': 'Chicago'}\n"
     ]
    },
    {
     "data": {
      "text/plain": [
       "['Atlanta', 'Denver', 'Chicago', 'El Paso']"
      ]
     },
     "execution_count": 24,
     "metadata": {},
     "output_type": "execute_result"
    }
   ],
   "source": [
    "class City:     #Weighted graph\n",
    "    def __init__(self, value):\n",
    "        self.value = value\n",
    "        self.adjacent_vertices = {}\n",
    "    \n",
    "    def add_route(self, vertex, weight):\n",
    "        self.adjacent_vertices[vertex] = weight\n",
    "\n",
    "    def print_adjacent_vertices(self):\n",
    "        print(self.value, ':', [i.value for i in self.adjacent_vertices])\n",
    "            \n",
    "atlanta = City(\"Atlanta\")\n",
    "boston = City(\"Boston\")\n",
    "chicago = City(\"Chicago\")\n",
    "denver = City(\"Denver\")\n",
    "el_paso = City(\"El Paso\")\n",
    "\n",
    "atlanta.add_route(boston, 100)\n",
    "atlanta.add_route(denver, 160)\n",
    "boston.add_route(chicago, 120)\n",
    "boston.add_route(denver, 180)\n",
    "chicago.add_route(el_paso, 80)\n",
    "denver.add_route(chicago, 40)\n",
    "denver.add_route(el_paso, 140)\n",
    "el_paso.add_route(boston, 100)\n",
    "\n",
    "atlanta.print_adjacent_vertices()\n",
    "boston.print_adjacent_vertices()\n",
    "chicago.print_adjacent_vertices()\n",
    "denver.print_adjacent_vertices()\n",
    "el_paso.print_adjacent_vertices()\n",
    "\n",
    "def dijkstra_shortest_path(starting_city, final_destination):\n",
    "    cheapest_prices_table = {}\n",
    "    cheapest_previous_stopover_city_table = {}\n",
    "    # To keep our code simple, we'll use a basic array to keep track of the known cities we haven't yet visited\n",
    "    # and are yet to be the current cities:\n",
    "    unvisited_cities = []\n",
    "    # We keep track of the cities we've visited using a hash table.\n",
    "    # We could have used an array, but since we'll be doing lookups, a hash table is more efficient:\n",
    "    visited_cities = {}\n",
    "    # We add the starting city's name as the first key inside the\n",
    "    # cheapest_prices_table. It has a value of 0, since it costs nothing to get there:\n",
    "    cheapest_prices_table[starting_city.value] = 0\n",
    "    current_city = starting_city\n",
    "    \n",
    "    while current_city:\n",
    "        # We add the current_city's name to the visited_cities hash to record\n",
    "        # that we've officially visited it. We also remove it from the list of unvisited cities:\n",
    "        visited_cities[current_city.value] = True\n",
    "        if current_city in unvisited_cities:\n",
    "            unvisited_cities.remove(current_city)\n",
    "        \n",
    "        # We iterate over each of the current_city's adjacent cities:\n",
    "        for adjacent_city, price in current_city.adjacent_vertices.items():\n",
    "            # If we've discovered a new city, we add it to the list of unvisited_cities:\n",
    "            if adjacent_city.value not in visited_cities and adjacent_city not in unvisited_cities:\n",
    "                unvisited_cities.append(adjacent_city)\n",
    "                \n",
    "                # We calculate the price of getting from the STARTING city to the\n",
    "                # ADJACENT city using the CURRENT city as the second-to-last stop:\n",
    "            price_through_current_city = cheapest_prices_table[current_city.value] + price\n",
    "                \n",
    "                # If the price from the STARTING city to the ADJACENT city is the cheapest one we've found so far...\n",
    "            if (not cheapest_prices_table.get(adjacent_city.value)) or \\\n",
    "            price_through_current_city < cheapest_prices_table[adjacent_city.value]:\n",
    "                # ... we update our two tables:\n",
    "                cheapest_prices_table[adjacent_city.value] = price_through_current_city \n",
    "                cheapest_previous_stopover_city_table[adjacent_city.value] = current_city.value\n",
    "\n",
    "        if unvisited_cities:\n",
    "            # We visit our next unvisited city. We choose the one that is cheapest to get to from the STARTING city:\n",
    "            cheapest_unvisited_cities = {cheapest_prices_table[city.value]:city for city in unvisited_cities}\n",
    "            cheapest_unvisited_city_price = min(cheapest_unvisited_cities.keys())\n",
    "            current_city = cheapest_unvisited_cities[cheapest_unvisited_city_price]\n",
    "        else: \n",
    "            current_city = None\n",
    "            \n",
    "        # At this point, the cheapest_prices_table contains all the cheapest prices\n",
    "        # to get to each city from the starting city. However, to calculate the precise path to take from our starting \n",
    "        # city to our final destination, we need to move on. We'll build the shortest path using a simple array:\n",
    "    cheapest_path = []\n",
    "    # To construct the shortest path, we need to work backwards from our final destination. So, we begin with \n",
    "    #the final destination as our\n",
    "\n",
    "    current_city_name = final_destination.value\n",
    "    # We loop until we reach our starting city:\n",
    "    print(cheapest_previous_stopover_city_table)\n",
    "    while current_city_name != starting_city.value:\n",
    "        # We add each current_city_name we encounter to the shortest path array:\n",
    "        cheapest_path.append(current_city_name)\n",
    "        # We use the cheapest_previous_stopover_city_table to follow each city to its previous stopover city:\n",
    "        current_city_name = cheapest_previous_stopover_city_table[current_city_name]  \n",
    "        # We cap things off by adding the starting city to the shortest path:\n",
    "\n",
    "    cheapest_path.append(starting_city.value)\n",
    "    return cheapest_path[::-1]\n",
    "\n",
    "dijkstra_shortest_path(atlanta, el_paso)        "
   ]
  },
  {
   "cell_type": "markdown",
   "metadata": {},
   "source": [
    " # Create a new function to reverse an array that takes up just O(1) extra space."
   ]
  },
  {
   "cell_type": "code",
   "execution_count": 9,
   "metadata": {},
   "outputs": [
    {
     "name": "stdout",
     "output_type": "stream",
     "text": [
      "1\n",
      "2\n",
      "3\n",
      "[6, 5, 4, 3, 2, 1]\n"
     ]
    }
   ],
   "source": [
    "def reverse(array):\n",
    "    i = len(array) - 1\n",
    "    while i>(len(array)-1)//2:\n",
    "        #b = array[i] \n",
    "        #array[i] = array[len(array)-1 - i]\n",
    "        #array[len(array)-1 - i] = b\n",
    "        array[i], array[len(array)-1 - i] =  array[len(array)-1 - i], array[i]\n",
    "        print(array[i])\n",
    "        i = i - 1\n",
    "    print(array)\n",
    "\n",
    "Array = [1,2,3,4,5,6]\n",
    "reverse(Array)"
   ]
  },
  {
   "cell_type": "code",
   "execution_count": null,
   "metadata": {},
   "outputs": [],
   "source": []
  }
 ],
 "metadata": {
  "kernelspec": {
   "display_name": "Python 3",
   "language": "python",
   "name": "python3"
  },
  "language_info": {
   "codemirror_mode": {
    "name": "ipython",
    "version": 3
   },
   "file_extension": ".py",
   "mimetype": "text/x-python",
   "name": "python",
   "nbconvert_exporter": "python",
   "pygments_lexer": "ipython3",
   "version": "3.7.1"
  }
 },
 "nbformat": 4,
 "nbformat_minor": 2
}
